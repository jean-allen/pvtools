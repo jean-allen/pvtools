{
 "cells": [
  {
   "cell_type": "code",
   "execution_count": null,
   "metadata": {},
   "outputs": [
    {
     "ename": "",
     "evalue": "",
     "output_type": "error",
     "traceback": [
      "\u001b[1;31mThe kernel failed to start as the Python Environment 'pvtools_dev (Python -1.-1.-1)' is no longer available. Consider selecting another kernel or refreshing the list of Python Environments."
     ]
    }
   ],
   "source": [
    "import pandas as pd\n",
    "import pvtools.pv_curve as pvc\n",
    "import matplotlib.pyplot as plt"
   ]
  },
  {
   "cell_type": "code",
   "execution_count": null,
   "metadata": {},
   "outputs": [],
   "source": [
    "# this is data I collected for a eucalyptus globulus on UCSB's campus\n",
    "data = pd.read_excel('eugl_1.xlsx')\n",
    "psis = data['Y (Mpa)'].dropna().values\n",
    "masses = data['Mass (g)'].dropna().values\n",
    "dry_mass = data['Dry Weight (g)'][0]\n",
    "\n",
    "pvc.get_breakpoint(psis, masses, dry_mass, plot=True)\n",
    "\n",
    "pv_curve = pvc.PVCurve(psis, masses, dry_mass)\n",
    "pv_curve.plot()"
   ]
  },
  {
   "cell_type": "code",
   "execution_count": null,
   "metadata": {},
   "outputs": [],
   "source": []
  }
 ],
 "metadata": {
  "kernelspec": {
   "display_name": "pvtools_dev",
   "language": "python",
   "name": "python3"
  },
  "language_info": {
   "codemirror_mode": {
    "name": "ipython",
    "version": 3
   },
   "file_extension": ".py",
   "mimetype": "text/x-python",
   "name": "python",
   "nbconvert_exporter": "python",
   "pygments_lexer": "ipython3",
   "version": "-1.-1.-1"
  }
 },
 "nbformat": 4,
 "nbformat_minor": 2
}
